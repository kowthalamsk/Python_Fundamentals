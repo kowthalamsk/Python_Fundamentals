{
 "cells": [
  {
   "cell_type": "code",
   "execution_count": 103,
   "metadata": {},
   "outputs": [
    {
     "name": "stdout",
     "output_type": "stream",
     "text": [
      "python fundamentals\n"
     ]
    }
   ],
   "source": [
    "full_name = \"python fundamentals\"\n",
    "print(full_name)"
   ]
  },
  {
   "cell_type": "code",
   "execution_count": 104,
   "metadata": {},
   "outputs": [
    {
     "name": "stdout",
     "output_type": "stream",
     "text": [
      "Python Fundamentals\n"
     ]
    }
   ],
   "source": [
    "print(full_name.title())"
   ]
  },
  {
   "cell_type": "code",
   "execution_count": 105,
   "metadata": {},
   "outputs": [
    {
     "name": "stdout",
     "output_type": "stream",
     "text": [
      "PYTHON FUNDAMENTALS\n"
     ]
    }
   ],
   "source": [
    "print(full_name.upper())"
   ]
  },
  {
   "cell_type": "code",
   "execution_count": 106,
   "metadata": {},
   "outputs": [
    {
     "name": "stdout",
     "output_type": "stream",
     "text": [
      "python fundamentals\n"
     ]
    }
   ],
   "source": [
    "print(full_name.lower())"
   ]
  },
  {
   "cell_type": "code",
   "execution_count": 107,
   "metadata": {},
   "outputs": [],
   "source": [
    "#Intro to f strings"
   ]
  },
  {
   "cell_type": "code",
   "execution_count": 108,
   "metadata": {},
   "outputs": [],
   "source": [
    "first_word = \"death\""
   ]
  },
  {
   "cell_type": "code",
   "execution_count": 109,
   "metadata": {},
   "outputs": [],
   "source": [
    "last_word = \"metal\""
   ]
  },
  {
   "cell_type": "code",
   "execution_count": 110,
   "metadata": {},
   "outputs": [],
   "source": [
    "full_power = f\"{first_word} {last_word}\""
   ]
  },
  {
   "cell_type": "code",
   "execution_count": 111,
   "metadata": {},
   "outputs": [
    {
     "name": "stdout",
     "output_type": "stream",
     "text": [
      "death metal\n"
     ]
    }
   ],
   "source": [
    "print(full_power)"
   ]
  },
  {
   "cell_type": "code",
   "execution_count": 112,
   "metadata": {},
   "outputs": [
    {
     "name": "stdout",
     "output_type": "stream",
     "text": [
      "Death Metal\n"
     ]
    }
   ],
   "source": [
    "print(full_power.title())"
   ]
  },
  {
   "cell_type": "code",
   "execution_count": 113,
   "metadata": {},
   "outputs": [
    {
     "name": "stdout",
     "output_type": "stream",
     "text": [
      "\\m/ Death Metal Rocks!!\n"
     ]
    }
   ],
   "source": [
    "print(f\"\\m/ {full_power.title()} Rocks!!\")"
   ]
  },
  {
   "cell_type": "code",
   "execution_count": 114,
   "metadata": {},
   "outputs": [],
   "source": [
    "#Adding white spaces to strings"
   ]
  },
  {
   "cell_type": "code",
   "execution_count": 115,
   "metadata": {},
   "outputs": [
    {
     "name": "stdout",
     "output_type": "stream",
     "text": [
      "fav_bands:megadethmetallicapanteralamb of god\n"
     ]
    }
   ],
   "source": [
    "print('fav_bands:megadethmetallicapanteralamb of god')"
   ]
  },
  {
   "cell_type": "code",
   "execution_count": 116,
   "metadata": {},
   "outputs": [
    {
     "name": "stdout",
     "output_type": "stream",
     "text": [
      "fav_bands:\n",
      "megadeth\n",
      "metallica\n",
      "pantera\n",
      "lamb of god\n"
     ]
    }
   ],
   "source": [
    "print('fav_bands:\\nmegadeth\\nmetallica\\npantera\\nlamb of god')"
   ]
  },
  {
   "cell_type": "code",
   "execution_count": 117,
   "metadata": {},
   "outputs": [
    {
     "name": "stdout",
     "output_type": "stream",
     "text": [
      "fav_bands:\n",
      "\tmegadeth\n",
      "\tmetallica\n",
      "\tpantera\n",
      "\tlamb of god\n"
     ]
    }
   ],
   "source": [
    "print('fav_bands:\\n\\tmegadeth\\n\\tmetallica\\n\\tpantera\\n\\tlamb of god')"
   ]
  },
  {
   "cell_type": "code",
   "execution_count": 118,
   "metadata": {},
   "outputs": [],
   "source": [
    "#what if Iput \\t before \\n??"
   ]
  },
  {
   "cell_type": "code",
   "execution_count": 119,
   "metadata": {},
   "outputs": [
    {
     "name": "stdout",
     "output_type": "stream",
     "text": [
      "fav_bands:\t\n",
      "megadeth\t\n",
      "metallica\t\n",
      "pantera\t\n",
      "lamb of god\n"
     ]
    }
   ],
   "source": [
    "print('fav_bands:\\t\\nmegadeth\\t\\nmetallica\\t\\npantera\\t\\nlamb of god')"
   ]
  },
  {
   "cell_type": "code",
   "execution_count": 120,
   "metadata": {},
   "outputs": [],
   "source": [
    "#This is the output \n",
    "#fav_bands:\t\n",
    "#megadeth\t\n",
    "#metallica\t\n",
    "#pantera\t\n",
    "#lamb of god"
   ]
  },
  {
   "cell_type": "code",
   "execution_count": 121,
   "metadata": {},
   "outputs": [
    {
     "name": "stdout",
     "output_type": "stream",
     "text": [
      "fav_bands:\n",
      "\tmegadeth\n",
      "\tmetallica\n",
      "\tpantera\n",
      "\tlamb of god\n"
     ]
    }
   ],
   "source": [
    "print('fav_bands:\\n\\tmegadeth\\n\\tmetallica\\n\\tpantera\\n\\tlamb of god')"
   ]
  },
  {
   "cell_type": "code",
   "execution_count": 122,
   "metadata": {},
   "outputs": [],
   "source": [
    "#This is the output of line 97\n",
    "#fav_bands:\n",
    "#\tmegadeth\n",
    "#\tmetallica\n",
    "#\tpantera\n",
    "#\tlamb of god"
   ]
  },
  {
   "cell_type": "code",
   "execution_count": 123,
   "metadata": {},
   "outputs": [],
   "source": [
    "#This looks fine"
   ]
  },
  {
   "cell_type": "code",
   "execution_count": 126,
   "metadata": {},
   "outputs": [
    {
     "name": "stdout",
     "output_type": "stream",
     "text": [
      "lamb\tof\tgod\n"
     ]
    }
   ],
   "source": [
    "print('lamb\\tof\\tgod')"
   ]
  },
  {
   "cell_type": "code",
   "execution_count": 127,
   "metadata": {},
   "outputs": [],
   "source": [
    "#how to add two spaces between the words\"lamb*space*of*space*god\"??\n",
    "#in print('lambofgod')\n",
    "#I tried '\\t' but, it is galaxies apart."
   ]
  },
  {
   "cell_type": "code",
   "execution_count": null,
   "metadata": {},
   "outputs": [],
   "source": []
  }
 ],
 "metadata": {
  "kernelspec": {
   "display_name": "Python 3",
   "language": "python",
   "name": "python3"
  },
  "language_info": {
   "codemirror_mode": {
    "name": "ipython",
    "version": 3
   },
   "file_extension": ".py",
   "mimetype": "text/x-python",
   "name": "python",
   "nbconvert_exporter": "python",
   "pygments_lexer": "ipython3",
   "version": "3.8.5"
  }
 },
 "nbformat": 4,
 "nbformat_minor": 4
}
